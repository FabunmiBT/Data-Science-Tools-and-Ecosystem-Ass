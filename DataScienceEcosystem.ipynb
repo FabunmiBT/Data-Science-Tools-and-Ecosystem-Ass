{
 "cells": [
  {
   "cell_type": "markdown",
   "id": "b9b3246e-3727-4660-a1e3-7c40401283b1",
   "metadata": {},
   "source": [
    "# Data Science Tools and Ecosystem"
   ]
  },
  {
   "cell_type": "markdown",
   "id": "9e5a923a-537b-43d5-bf8c-87987bf3b59d",
   "metadata": {},
   "source": [
    "In this notebook, Data Science Tools and Ecosystem are summarized"
   ]
  },
  {
   "cell_type": "markdown",
   "id": "2fd6c82e-6ba2-46f6-9f6b-7de5bebe2a0b",
   "metadata": {},
   "source": [
    "**Objectives:**"
   ]
  },
  {
   "cell_type": "markdown",
   "id": "d156ae08-ebc5-4885-807d-d7097622a5be",
   "metadata": {},
   "source": [
    "+ Python \n",
    "+ R \n",
    "+ SQL"
   ]
  },
  {
   "cell_type": "markdown",
   "id": "853619f9-133c-4f15-bc56-bb083689421e",
   "metadata": {},
   "source": [
    "Some of the popular languages that Data Scientists use are:\n",
    "1. Python\n",
    "2. R\n",
    "3. Java\n",
    "4. SQL\n",
    "5. Julia\n",
    "6. Scala\n",
    "7. MATLAB\n",
    "8. Swift"
   ]
  },
  {
   "cell_type": "markdown",
   "id": "8f86f18b-c539-43f2-9ebb-ef7941dc09c7",
   "metadata": {},
   "source": [
    "Some of the commonly used libraries used by Data Scientists include:\n",
    "1. Pandas\n",
    "2. BeautifulSoup\n",
    "3. Requests\n",
    "4. Selenium\n",
    "5. Numpy"
   ]
  },
  {
   "cell_type": "markdown",
   "id": "b64b8074-1bd0-43f6-8629-c9981954833d",
   "metadata": {},
   "source": [
    "|Data Science Tools|\n",
    "|------------------|\n",
    "| Jupyter Notebooks|\n",
    "| R Studio         |\n",
    "| Pytorch          |"
   ]
  },
  {
   "cell_type": "markdown",
   "id": "3fd1c14c-f3be-43e0-8763-12676041bd79",
   "metadata": {},
   "source": [
    "### Below are a few examples of evaluating arithmetic expressions in Python"
   ]
  },
  {
   "cell_type": "code",
   "execution_count": null,
   "id": "fca81116-4a02-4d1e-9beb-ed30548db693",
   "metadata": {},
   "outputs": [],
   "source": [
    "x=2\n",
    "x=x+2"
   ]
  },
  {
   "cell_type": "code",
   "execution_count": null,
   "id": "221f99d7-2373-469a-a4f4-9cf6713beeb3",
   "metadata": {},
   "outputs": [],
   "source": [
    "y<-10\n",
    "x>-20\n",
    "z=y+x"
   ]
  },
  {
   "cell_type": "code",
   "execution_count": 3,
   "id": "205e6592-2b21-4b38-af05-a42a0627b4ea",
   "metadata": {},
   "outputs": [
    {
     "data": {
      "text/plain": [
       "17"
      ]
     },
     "execution_count": 3,
     "metadata": {},
     "output_type": "execute_result"
    }
   ],
   "source": [
    "#This a simple arithmetic expression to mutiply then add integers\n",
    "(3*4)+5"
   ]
  },
  {
   "cell_type": "code",
   "execution_count": 5,
   "id": "785aa05e-b628-4f6e-a754-ac48d4d791d1",
   "metadata": {},
   "outputs": [
    {
     "data": {
      "text/plain": [
       "3"
      ]
     },
     "execution_count": 5,
     "metadata": {},
     "output_type": "execute_result"
    }
   ],
   "source": [
    "#This will convert 200 minutes to hours by diving by 60\n",
    "200//60"
   ]
  },
  {
   "cell_type": "markdown",
   "id": "a9d71fdc-8d71-4ba4-a5a3-d1986d1ebdc1",
   "metadata": {},
   "source": [
    "## Author\n",
    "Bukola Fabunmi"
   ]
  },
  {
   "cell_type": "code",
   "execution_count": null,
   "id": "32304602-88c4-4dee-867d-be3aec2665d7",
   "metadata": {},
   "outputs": [],
   "source": []
  }
 ],
 "metadata": {
  "kernelspec": {
   "display_name": "Python 3 (ipykernel)",
   "language": "python",
   "name": "python3"
  },
  "language_info": {
   "codemirror_mode": {
    "name": "ipython",
    "version": 3
   },
   "file_extension": ".py",
   "mimetype": "text/x-python",
   "name": "python",
   "nbconvert_exporter": "python",
   "pygments_lexer": "ipython3",
   "version": "3.11.7"
  }
 },
 "nbformat": 4,
 "nbformat_minor": 5
}
